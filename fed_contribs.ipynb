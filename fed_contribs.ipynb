{
 "cells": [
  {
   "cell_type": "markdown",
   "id": "c6c03920-5c3a-4968-967a-4636228c78d1",
   "metadata": {},
   "source": [
    "Campaign contributions from ICE, Border Patrol and other federal officials from California who monitor the border\n",
    "\n",
    "by Luke Harold"
   ]
  },
  {
   "cell_type": "code",
   "execution_count": 2,
   "id": "a6a7be96-8e18-4a32-8fc0-843b322ad8fe",
   "metadata": {},
   "outputs": [],
   "source": [
    "import pandas as pd"
   ]
  },
  {
   "cell_type": "code",
   "execution_count": 3,
   "id": "1d0404a6-41d4-4014-a3d3-86de0f3b4b30",
   "metadata": {},
   "outputs": [],
   "source": [
    "pd.set_option('display.max_columns', None)\n",
    "pd.set_option('display.max_rows', None)"
   ]
  },
  {
   "cell_type": "code",
   "execution_count": null,
   "id": "8ade34c6-88bf-4216-9884-309977733c3d",
   "metadata": {},
   "outputs": [],
   "source": []
  },
  {
   "cell_type": "markdown",
   "id": "9d13358e-4b09-429c-92ed-f97e989f3a57",
   "metadata": {},
   "source": [
    "Data is from the FEC website. Since contributors self-report their own data (ie, employer, occupation, etc.), I used search parameters (described in further detail below) to get the most comprehensive sample size as I could.\n",
    "\n",
    "Search parameters I used: \n",
    "\n",
    "a. Contributions from people who listed as their employer -- in whole or in part -- \"dhs ice\"*, \"us customs\", \"border patrol\", \"border protection\"\n",
    "\n",
    "*Just using \"ice\" turned up a number of ice cream businesses and other employers that were not relevant. Upon closer inspection, most immigration and customs enforcement agents seemed to put \"dhs ice\" as their employer. A search for \"immigration and customs enforcement\" did not turn up any donors for this sample size.\n",
    "\n",
    "b. Contributions made from 2021 to 2024 \n",
    "\n",
    "c. Contributions made by people who listed California as their home state\n",
    "\n",
    "This criteria yielded 1,064 contributions"
   ]
  },
  {
   "cell_type": "code",
   "execution_count": 4,
   "id": "9f591a50-f06a-434d-8ec2-8b6d2e8f54c6",
   "metadata": {},
   "outputs": [],
   "source": [
    "contribs = pd.read_csv(\"~/documents/pandas/fed_contribs/schedule_a-2024-02-20T00_34_05.csv\")"
   ]
  },
  {
   "cell_type": "code",
   "execution_count": null,
   "id": "d4e3e978-f168-4f36-b6d5-7d358497fef0",
   "metadata": {},
   "outputs": [],
   "source": []
  },
  {
   "cell_type": "code",
   "execution_count": null,
   "id": "a97bcfc2-eff4-47ad-9f21-f5db884f29cd",
   "metadata": {},
   "outputs": [],
   "source": [
    "## the columns included in the data"
   ]
  },
  {
   "cell_type": "code",
   "execution_count": 28,
   "id": "5e41cc3b-fc4f-4f34-80c0-7440226997ae",
   "metadata": {},
   "outputs": [
    {
     "name": "stdout",
     "output_type": "stream",
     "text": [
      "<class 'pandas.core.frame.DataFrame'>\n",
      "RangeIndex: 1064 entries, 0 to 1063\n",
      "Data columns (total 79 columns):\n",
      " #   Column                                 Non-Null Count  Dtype  \n",
      "---  ------                                 --------------  -----  \n",
      " 0   committee_id                           1064 non-null   object \n",
      " 1   committee_name                         1064 non-null   object \n",
      " 2   report_year                            1064 non-null   int64  \n",
      " 3   report_type                            1064 non-null   object \n",
      " 4   image_number                           1064 non-null   int64  \n",
      " 5   line_number                            1064 non-null   object \n",
      " 6   transaction_id                         1064 non-null   object \n",
      " 7   file_number                            1064 non-null   int64  \n",
      " 8   committee_name.1                       0 non-null      float64\n",
      " 9   entity_type                            1064 non-null   object \n",
      " 10  entity_type_desc                       1064 non-null   object \n",
      " 11  unused_contbr_id                       419 non-null    object \n",
      " 12  contributor_prefix                     31 non-null     object \n",
      " 13  contributor_name                       1064 non-null   object \n",
      " 14  recipient_committee_type               1064 non-null   object \n",
      " 15  recipient_committee_org_type           1 non-null      object \n",
      " 16  recipient_committee_designation        1064 non-null   object \n",
      " 17  contributor_first_name                 1064 non-null   object \n",
      " 18  contributor_middle_name                29 non-null     object \n",
      " 19  contributor_last_name                  1064 non-null   object \n",
      " 20  contributor_suffix                     28 non-null     object \n",
      " 21  contributor_street_1                   1064 non-null   object \n",
      " 22  contributor_street_2                   606 non-null    object \n",
      " 23  contributor_city                       1064 non-null   object \n",
      " 24  contributor_state                      1064 non-null   object \n",
      " 25  contributor_zip                        1064 non-null   int64  \n",
      " 26  contributor_employer                   1064 non-null   object \n",
      " 27  contributor_occupation                 1057 non-null   object \n",
      " 28  contributor_id                         419 non-null    object \n",
      " 29  receipt_type                           681 non-null    object \n",
      " 30  receipt_type_desc                      681 non-null    object \n",
      " 31  receipt_type_full                      891 non-null    object \n",
      " 32  memo_code                              51 non-null     object \n",
      " 33  memo_code_full                         0 non-null      float64\n",
      " 34  contribution_receipt_date              1064 non-null   object \n",
      " 35  contribution_receipt_amount            1064 non-null   float64\n",
      " 36  contributor_aggregate_ytd              1064 non-null   float64\n",
      " 37  candidate_id                           146 non-null    object \n",
      " 38  candidate_name                         0 non-null      float64\n",
      " 39  candidate_first_name                   0 non-null      float64\n",
      " 40  candidate_last_name                    0 non-null      float64\n",
      " 41  candidate_middle_name                  0 non-null      float64\n",
      " 42  candidate_prefix                       0 non-null      float64\n",
      " 43  candidate_suffix                       0 non-null      float64\n",
      " 44  candidate_office                       0 non-null      float64\n",
      " 45  candidate_office_full                  0 non-null      float64\n",
      " 46  candidate_office_state                 0 non-null      float64\n",
      " 47  candidate_office_state_full            0 non-null      float64\n",
      " 48  candidate_office_district              0 non-null      float64\n",
      " 49  conduit_committee_id                   0 non-null      float64\n",
      " 50  conduit_committee_name                 9 non-null      object \n",
      " 51  conduit_committee_street1              9 non-null      object \n",
      " 52  conduit_committee_street2              0 non-null      float64\n",
      " 53  conduit_committee_city                 9 non-null      object \n",
      " 54  conduit_committee_state                9 non-null      object \n",
      " 55  conduit_committee_zip                  9 non-null      float64\n",
      " 56  donor_committee_name                   0 non-null      float64\n",
      " 57  national_committee_nonfederal_account  98 non-null     object \n",
      " 58  election_type                          675 non-null    object \n",
      " 59  election_type_full                     12 non-null     object \n",
      " 60  fec_election_type_desc                 675 non-null    object \n",
      " 61  fec_election_year                      219 non-null    float64\n",
      " 62  amendment_indicator                    1064 non-null   object \n",
      " 63  amendment_indicator_desc               1064 non-null   object \n",
      " 64  schedule_type_full                     1064 non-null   object \n",
      " 65  load_date                              1064 non-null   object \n",
      " 66  original_sub_id                        0 non-null      float64\n",
      " 67  back_reference_transaction_id          154 non-null    object \n",
      " 68  back_reference_schedule_name           153 non-null    object \n",
      " 69  filing_form                            1064 non-null   object \n",
      " 70  link_id                                1064 non-null   int64  \n",
      " 71  is_individual                          1064 non-null   object \n",
      " 72  memo_text                              297 non-null    object \n",
      " 73  two_year_transaction_period            1064 non-null   int64  \n",
      " 74  schedule_type                          1064 non-null   object \n",
      " 75  increased_limit                        0 non-null      float64\n",
      " 76  sub_id                                 1064 non-null   int64  \n",
      " 77  pdf_url                                1064 non-null   object \n",
      " 78  line_number_label                      1064 non-null   object \n",
      "dtypes: float64(22), int64(7), object(50)\n",
      "memory usage: 656.8+ KB\n"
     ]
    }
   ],
   "source": [
    "contribs.info()"
   ]
  },
  {
   "cell_type": "code",
   "execution_count": null,
   "id": "ad097638-7807-466d-a876-43623dfeb88a",
   "metadata": {},
   "outputs": [],
   "source": []
  },
  {
   "cell_type": "code",
   "execution_count": null,
   "id": "d8ad43de-2698-442e-ad76-3916385f7d93",
   "metadata": {},
   "outputs": [],
   "source": [
    "### sum total contributions"
   ]
  },
  {
   "cell_type": "code",
   "execution_count": 6,
   "id": "89da9050-b66c-48bf-8195-9e39e285539c",
   "metadata": {},
   "outputs": [
    {
     "data": {
      "text/plain": [
       "21770.079999999998"
      ]
     },
     "execution_count": 6,
     "metadata": {},
     "output_type": "execute_result"
    }
   ],
   "source": [
    "contribs.contribution_receipt_amount.sum()"
   ]
  },
  {
   "cell_type": "code",
   "execution_count": null,
   "id": "514a6e6e-70e8-4b04-9429-0b70602eb71d",
   "metadata": {},
   "outputs": [],
   "source": []
  },
  {
   "cell_type": "code",
   "execution_count": null,
   "id": "85ea04a5-29cb-46cf-b3c6-a6bb9c047313",
   "metadata": {},
   "outputs": [],
   "source": [
    "## which committees received the most money?"
   ]
  },
  {
   "cell_type": "code",
   "execution_count": 11,
   "id": "ac4ea852-53ad-473f-92cb-7638f23ae67c",
   "metadata": {},
   "outputs": [],
   "source": [
    "top_committees = contribs.groupby(\"committee_name\").contribution_receipt_amount.sum().reset_index().sort_values(\"contribution_receipt_amount\",ascending=False)"
   ]
  },
  {
   "cell_type": "code",
   "execution_count": 12,
   "id": "d4f4daea-3761-47ca-b5af-e614290fe84c",
   "metadata": {},
   "outputs": [],
   "source": [
    "top_committees.head(10).to_csv(\"top_committees.csv\")"
   ]
  },
  {
   "cell_type": "code",
   "execution_count": null,
   "id": "600a4686-cd70-401f-a5b8-73f9a295050d",
   "metadata": {},
   "outputs": [],
   "source": []
  },
  {
   "cell_type": "code",
   "execution_count": null,
   "id": "2ad25cc4-1de0-4da9-a24e-cda42b2fbf59",
   "metadata": {},
   "outputs": [],
   "source": [
    "## where do contributors live?"
   ]
  },
  {
   "cell_type": "code",
   "execution_count": 7,
   "id": "0f5fd76a-30b7-446b-be44-32fd9867b204",
   "metadata": {},
   "outputs": [],
   "source": [
    "home_cities = contribs.value_counts(\"contributor_city\").reset_index()"
   ]
  },
  {
   "cell_type": "code",
   "execution_count": 9,
   "id": "434ce9c5-c991-451a-ac04-4245c76922a8",
   "metadata": {},
   "outputs": [],
   "source": [
    "home_cities.head(15).to_csv(\"home_cities.csv\")"
   ]
  },
  {
   "cell_type": "code",
   "execution_count": 12,
   "id": "4fa38bb3-6407-4d0f-adc1-95b872d77e84",
   "metadata": {},
   "outputs": [
    {
     "data": {
      "text/plain": [
       "contributor_city    LAGUNA NIGUELLONG BEACHWILLITSSAN FRANCISCOSUN...\n",
       "0                                                                1064\n",
       "dtype: object"
      ]
     },
     "execution_count": 12,
     "metadata": {},
     "output_type": "execute_result"
    }
   ],
   "source": [
    "home_cities.sum()"
   ]
  },
  {
   "cell_type": "code",
   "execution_count": null,
   "id": "af3d0348-4eb2-4964-bb79-fa9ffdcd77b6",
   "metadata": {},
   "outputs": [],
   "source": []
  },
  {
   "cell_type": "code",
   "execution_count": null,
   "id": "644f73e1-8b3a-47e3-bcc7-508a9f4312df",
   "metadata": {},
   "outputs": [],
   "source": [
    "## which agencies were most commonly listed as the contributor's employer?"
   ]
  },
  {
   "cell_type": "code",
   "execution_count": 22,
   "id": "60d19128-ef9a-4ee0-83e5-b3429e820eb3",
   "metadata": {},
   "outputs": [
    {
     "data": {
      "text/plain": [
       "contributor_employer\n",
       "DHS-ICE                                   228\n",
       "DHS/ICE                                   222\n",
       "CUSTOMS AND BORDER PROTECTION              82\n",
       "DHS ICE                                    82\n",
       "ICE/DHS                                    77\n",
       "ICE-DHS                                    67\n",
       "US CUSTOMS & BORDER PROTECTION             58\n",
       "U.S. CUSTOMS SERVICE                       55\n",
       "US CUSTOMS & BORDER PATROL                 39\n",
       "US BORDER PATROL                           31\n",
       "US CUSTOMS AND BORDER PROTECTION           31\n",
       "U.S. CUSTOMS TREASURY DEPT.                26\n",
       "ICE DHS                                    19\n",
       "CUSTOMS & BORDER PROTECTION                 8\n",
       "US DHS ICE ERO                              7\n",
       "BORDER PATROL                               6\n",
       "U.S. CUSTOMS & BORYER PROTECTION            5\n",
       "U.S. IMMIGRATION & CUSTOMS ENFORCEMENT      5\n",
       "U.S. CUSTOMS AND BORDER PROTECTION          3\n",
       "UNITED STATES BORDER PATROL                 3\n",
       "DHS-CUSTOMS AND BORDER PROTECTION           3\n",
       "U.S. BORDER PATROL                          2\n",
       "DHS/ICE/ERO                                 2\n",
       "US CUSROMS AND BORDER PROTECTION            1\n",
       "US CUSTOMS BORDER PROTECTION                1\n",
       "US. BORDER PATROL                           1\n",
       "dtype: int64"
      ]
     },
     "execution_count": 22,
     "metadata": {},
     "output_type": "execute_result"
    }
   ],
   "source": [
    "contribs.value_counts(\"contributor_employer\")"
   ]
  },
  {
   "cell_type": "code",
   "execution_count": 32,
   "id": "fc9f0684-5c30-4399-9a1a-266c836a71c3",
   "metadata": {},
   "outputs": [
    {
     "data": {
      "text/plain": [
       "709"
      ]
     },
     "execution_count": 32,
     "metadata": {},
     "output_type": "execute_result"
    }
   ],
   "source": [
    "##ICE\n",
    "228+222+82+77+67+19+7+5+2"
   ]
  },
  {
   "cell_type": "code",
   "execution_count": 33,
   "id": "7fd5894e-ced4-4dbd-815e-58f820d4a915",
   "metadata": {},
   "outputs": [
    {
     "data": {
      "text/plain": [
       "192"
      ]
     },
     "execution_count": 33,
     "metadata": {},
     "output_type": "execute_result"
    }
   ],
   "source": [
    "## U.S. CBP\n",
    "82+58+31+8+5+3+3+1+1"
   ]
  },
  {
   "cell_type": "code",
   "execution_count": 34,
   "id": "5b036c0c-ff08-4acc-9757-630c6bde5bee",
   "metadata": {},
   "outputs": [
    {
     "data": {
      "text/plain": [
       "82"
      ]
     },
     "execution_count": 34,
     "metadata": {},
     "output_type": "execute_result"
    }
   ],
   "source": [
    "## border patrol\n",
    "39+31+6+3+2+1"
   ]
  },
  {
   "cell_type": "code",
   "execution_count": 35,
   "id": "f6470bea-5e1d-470e-a890-adeca34eded4",
   "metadata": {},
   "outputs": [
    {
     "data": {
      "text/plain": [
       "55"
      ]
     },
     "execution_count": 35,
     "metadata": {},
     "output_type": "execute_result"
    }
   ],
   "source": [
    "## us customs service\n",
    "55"
   ]
  },
  {
   "cell_type": "code",
   "execution_count": 36,
   "id": "8db490b0-a335-4e86-b1ae-a03277c7a2ff",
   "metadata": {},
   "outputs": [
    {
     "data": {
      "text/plain": [
       "26"
      ]
     },
     "execution_count": 36,
     "metadata": {},
     "output_type": "execute_result"
    }
   ],
   "source": [
    "## us customs treasury dept\n",
    "26"
   ]
  },
  {
   "cell_type": "code",
   "execution_count": 37,
   "id": "643823c4-6f62-42f8-9c09-01e2225f1358",
   "metadata": {},
   "outputs": [
    {
     "data": {
      "text/plain": [
       "1064"
      ]
     },
     "execution_count": 37,
     "metadata": {},
     "output_type": "execute_result"
    }
   ],
   "source": [
    "709+192+82+55+26"
   ]
  },
  {
   "cell_type": "code",
   "execution_count": 38,
   "id": "537ece32-5eed-42be-a304-de9bcf4935d5",
   "metadata": {},
   "outputs": [
    {
     "data": {
      "text/plain": [
       "0.6663533834586466"
      ]
     },
     "execution_count": 38,
     "metadata": {},
     "output_type": "execute_result"
    }
   ],
   "source": [
    "709/1064"
   ]
  },
  {
   "cell_type": "code",
   "execution_count": null,
   "id": "9fc15dd6-9329-4ca1-bf84-16dcb48ea3c1",
   "metadata": {},
   "outputs": [],
   "source": []
  },
  {
   "cell_type": "code",
   "execution_count": null,
   "id": "049cf3e7-874d-429a-85cf-e54c9da3ea68",
   "metadata": {},
   "outputs": [],
   "source": []
  },
  {
   "cell_type": "code",
   "execution_count": null,
   "id": "30fd51ed-144e-4ac5-a83c-b11db0f128eb",
   "metadata": {},
   "outputs": [],
   "source": [
    "## which cities did the money come from?"
   ]
  },
  {
   "cell_type": "code",
   "execution_count": 8,
   "id": "7d4ed4e6-ddd6-4e0c-99ab-155fe0f0c313",
   "metadata": {},
   "outputs": [],
   "source": [
    "top_cities = contribs.groupby(\"contributor_city\").contribution_receipt_amount.sum().reset_index().sort_values(\"contribution_receipt_amount\",ascending=False)"
   ]
  },
  {
   "cell_type": "code",
   "execution_count": 13,
   "id": "40c63b92-ff4e-4666-9a47-54dc71034872",
   "metadata": {},
   "outputs": [],
   "source": [
    "top_cities.to_csv(\"top_cities.csv\")"
   ]
  },
  {
   "cell_type": "code",
   "execution_count": null,
   "id": "73d5de9f-4c90-4b62-ab20-865b262001d9",
   "metadata": {},
   "outputs": [],
   "source": []
  },
  {
   "cell_type": "code",
   "execution_count": 25,
   "id": "708d691a-7bf6-4912-b3c0-91d275afe0d7",
   "metadata": {},
   "outputs": [],
   "source": [
    "## contributors from Laguna Niguel accounted for 55% of the total contributions from this population"
   ]
  },
  {
   "cell_type": "code",
   "execution_count": 24,
   "id": "5d20abbd-858e-4496-983b-076a438dbf54",
   "metadata": {},
   "outputs": [
    {
     "data": {
      "text/plain": [
       "0.5553342018035763"
      ]
     },
     "execution_count": 24,
     "metadata": {},
     "output_type": "execute_result"
    }
   ],
   "source": [
    "12089.67/21770.079999999998"
   ]
  },
  {
   "cell_type": "code",
   "execution_count": null,
   "id": "5f1e9308-0cd4-4c5c-b027-83e75b465d40",
   "metadata": {},
   "outputs": [],
   "source": []
  },
  {
   "cell_type": "code",
   "execution_count": null,
   "id": "4bd4c96e-9891-461a-9a9d-4af170b402e0",
   "metadata": {},
   "outputs": [],
   "source": [
    "## putting together all the contributors who listed ice as their employer. (they listed ice nine different ways.)"
   ]
  },
  {
   "cell_type": "code",
   "execution_count": 39,
   "id": "95f61d54-96c2-4b9f-a30a-2914b84cac55",
   "metadata": {},
   "outputs": [],
   "source": [
    "ice_contribs1 = contribs[contribs.contributor_employer == \"DHS-ICE\"]"
   ]
  },
  {
   "cell_type": "code",
   "execution_count": 41,
   "id": "c7591d51-dfc5-49e3-8fe4-403e4039394e",
   "metadata": {},
   "outputs": [],
   "source": [
    "ice_contribs2 = contribs[contribs.contributor_employer == \"DHS/ICE\"]"
   ]
  },
  {
   "cell_type": "code",
   "execution_count": 43,
   "id": "aeb4c822-a4df-4752-b3b9-8a4e626052d6",
   "metadata": {},
   "outputs": [],
   "source": [
    "ice_contribs3 = contribs[contribs.contributor_employer == \"DHS ICE\"]"
   ]
  },
  {
   "cell_type": "code",
   "execution_count": 44,
   "id": "9854fdd5-9be5-4aa7-a8ac-51174d08af36",
   "metadata": {},
   "outputs": [],
   "source": [
    "ice_contribs4 = contribs[contribs.contributor_employer == \"ICE/DHS\"]"
   ]
  },
  {
   "cell_type": "code",
   "execution_count": 54,
   "id": "41820a39-ba74-4a37-9d11-681fc922e66d",
   "metadata": {},
   "outputs": [],
   "source": [
    "ice_contribs5 = contribs[contribs.contributor_employer == \"ICE-DHS\"]"
   ]
  },
  {
   "cell_type": "code",
   "execution_count": 56,
   "id": "c7c2780b-3dec-46a8-b783-af2014d5271b",
   "metadata": {},
   "outputs": [],
   "source": [
    "ice_contribs6 = contribs[contribs.contributor_employer == \"ICE DHS\"]"
   ]
  },
  {
   "cell_type": "code",
   "execution_count": 47,
   "id": "841aad35-1d79-494b-b312-4e09194841a7",
   "metadata": {},
   "outputs": [],
   "source": [
    "ice_contribs7 = contribs[contribs.contributor_employer == \"US DHS ICE ERO\"]"
   ]
  },
  {
   "cell_type": "code",
   "execution_count": 49,
   "id": "58f3d1ad-edfd-4ecc-8df0-2426281f6b52",
   "metadata": {},
   "outputs": [],
   "source": [
    "ice_contribs8 = contribs[contribs.contributor_employer == \"U.S. IMMIGRATION & CUSTOMS ENFORCEMENT\"]"
   ]
  },
  {
   "cell_type": "code",
   "execution_count": 50,
   "id": "7ce9ab1e-a012-4a6d-a418-b427b17de337",
   "metadata": {},
   "outputs": [],
   "source": [
    "ice_contribs9 = contribs[contribs.contributor_employer == \"DHS/ICE/ERO\"]"
   ]
  },
  {
   "cell_type": "code",
   "execution_count": 57,
   "id": "5993db35-885d-4d92-ab20-d450002b9fc4",
   "metadata": {},
   "outputs": [],
   "source": [
    "total_ice = pd.concat([ice_contribs1,ice_contribs2,ice_contribs3,ice_contribs4,ice_contribs5,ice_contribs6,ice_contribs7,ice_contribs8,ice_contribs9])"
   ]
  },
  {
   "cell_type": "code",
   "execution_count": 62,
   "id": "92540df5-3ccc-44d2-94b6-7cd4e3badcd4",
   "metadata": {},
   "outputs": [],
   "source": [
    "top_ice_contribs = total_ice.groupby(\"committee_name\").contribution_receipt_amount.sum().reset_index().sort_values(\"contribution_receipt_amount\",ascending=False)"
   ]
  },
  {
   "cell_type": "code",
   "execution_count": 65,
   "id": "f55866ff-de81-4f0a-8cc2-323d2c7b1922",
   "metadata": {},
   "outputs": [],
   "source": [
    "top_ice_contribs.head(16).to_csv(\"top_ice_contribs.csv\")"
   ]
  },
  {
   "cell_type": "code",
   "execution_count": null,
   "id": "f48076ea-9311-4d89-8543-006395f1b635",
   "metadata": {},
   "outputs": [],
   "source": []
  },
  {
   "cell_type": "code",
   "execution_count": null,
   "id": "c5a57436-0f71-442b-b4fd-eb43c16ad89c",
   "metadata": {},
   "outputs": [],
   "source": []
  },
  {
   "cell_type": "code",
   "execution_count": null,
   "id": "57820ace-d57b-4d21-9508-29b4b5f41e8d",
   "metadata": {},
   "outputs": [],
   "source": [
    "## cities that the ice contribs came from"
   ]
  },
  {
   "cell_type": "code",
   "execution_count": 29,
   "id": "5ccafaaf-9c9b-4426-b7e9-86070539824c",
   "metadata": {},
   "outputs": [
    {
     "data": {
      "text/html": [
       "<div>\n",
       "<style scoped>\n",
       "    .dataframe tbody tr th:only-of-type {\n",
       "        vertical-align: middle;\n",
       "    }\n",
       "\n",
       "    .dataframe tbody tr th {\n",
       "        vertical-align: top;\n",
       "    }\n",
       "\n",
       "    .dataframe thead th {\n",
       "        text-align: right;\n",
       "    }\n",
       "</style>\n",
       "<table border=\"1\" class=\"dataframe\">\n",
       "  <thead>\n",
       "    <tr style=\"text-align: right;\">\n",
       "      <th></th>\n",
       "      <th>contributor_city</th>\n",
       "      <th>contribution_receipt_amount</th>\n",
       "    </tr>\n",
       "  </thead>\n",
       "  <tbody>\n",
       "    <tr>\n",
       "      <th>6</th>\n",
       "      <td>LAGUNA NIGUEL</td>\n",
       "      <td>11728.92</td>\n",
       "    </tr>\n",
       "    <tr>\n",
       "      <th>9</th>\n",
       "      <td>WEST SACRAMENTO</td>\n",
       "      <td>1147.79</td>\n",
       "    </tr>\n",
       "    <tr>\n",
       "      <th>2</th>\n",
       "      <td>EL CENTRO</td>\n",
       "      <td>270.00</td>\n",
       "    </tr>\n",
       "    <tr>\n",
       "      <th>4</th>\n",
       "      <td>LA HABRA</td>\n",
       "      <td>255.73</td>\n",
       "    </tr>\n",
       "    <tr>\n",
       "      <th>5</th>\n",
       "      <td>LAGUNA HILLS</td>\n",
       "      <td>100.00</td>\n",
       "    </tr>\n",
       "    <tr>\n",
       "      <th>1</th>\n",
       "      <td>COVINA</td>\n",
       "      <td>85.00</td>\n",
       "    </tr>\n",
       "    <tr>\n",
       "      <th>0</th>\n",
       "      <td>BEAUMONT</td>\n",
       "      <td>52.00</td>\n",
       "    </tr>\n",
       "    <tr>\n",
       "      <th>3</th>\n",
       "      <td>FRESNO</td>\n",
       "      <td>45.00</td>\n",
       "    </tr>\n",
       "    <tr>\n",
       "      <th>8</th>\n",
       "      <td>SAN DIEGO</td>\n",
       "      <td>41.00</td>\n",
       "    </tr>\n",
       "    <tr>\n",
       "      <th>7</th>\n",
       "      <td>MURRIETA</td>\n",
       "      <td>20.00</td>\n",
       "    </tr>\n",
       "  </tbody>\n",
       "</table>\n",
       "</div>"
      ],
      "text/plain": [
       "  contributor_city  contribution_receipt_amount\n",
       "6    LAGUNA NIGUEL                     11728.92\n",
       "9  WEST SACRAMENTO                      1147.79\n",
       "2        EL CENTRO                       270.00\n",
       "4         LA HABRA                       255.73\n",
       "5     LAGUNA HILLS                       100.00\n",
       "1           COVINA                        85.00\n",
       "0         BEAUMONT                        52.00\n",
       "3           FRESNO                        45.00\n",
       "8        SAN DIEGO                        41.00\n",
       "7         MURRIETA                        20.00"
      ]
     },
     "execution_count": 29,
     "metadata": {},
     "output_type": "execute_result"
    }
   ],
   "source": [
    "ice_contribs.groupby(\"contributor_city\").contribution_receipt_amount.sum().reset_index().sort_values(\"contribution_receipt_amount\",ascending=False)"
   ]
  },
  {
   "cell_type": "code",
   "execution_count": null,
   "id": "f37b94ea-4cb6-4815-85c6-9da6ec90d51c",
   "metadata": {},
   "outputs": [],
   "source": []
  },
  {
   "cell_type": "code",
   "execution_count": null,
   "id": "7a60d8f2-fad2-4b44-8abb-4fc26743e92c",
   "metadata": {},
   "outputs": [],
   "source": [
    "## a closer look at Laguna Niguel"
   ]
  },
  {
   "cell_type": "code",
   "execution_count": 16,
   "id": "78500a29-366e-4431-b07d-26ef509ed316",
   "metadata": {},
   "outputs": [],
   "source": [
    "by_city = contribs[contribs.contributor_city == \"LAGUNA NIGUEL\"]"
   ]
  },
  {
   "cell_type": "code",
   "execution_count": 18,
   "id": "6d5db34d-c436-4c5d-a9ff-b0dd57f35bd9",
   "metadata": {},
   "outputs": [],
   "source": [
    "laguna_niguel_contribs = by_city.groupby(\"committee_name\").contribution_receipt_amount.sum().reset_index().sort_values(\"contribution_receipt_amount\",ascending=False)"
   ]
  },
  {
   "cell_type": "code",
   "execution_count": null,
   "id": "42f564b9-cc96-4a42-8d02-1c7fc3ba3676",
   "metadata": {},
   "outputs": [],
   "source": []
  },
  {
   "cell_type": "code",
   "execution_count": 19,
   "id": "feb86b7c-b875-4cdc-b105-147fb53b62e7",
   "metadata": {},
   "outputs": [],
   "source": [
    "laguna_niguel_contribs.to_csv(\"lagunaniguel.csv\")"
   ]
  },
  {
   "cell_type": "code",
   "execution_count": null,
   "id": "07556f93-9289-4ad6-83b3-8af66db0da23",
   "metadata": {},
   "outputs": [],
   "source": []
  },
  {
   "cell_type": "code",
   "execution_count": 20,
   "id": "89688ce6-3f9d-403a-9dc2-32ff056cfec1",
   "metadata": {},
   "outputs": [
    {
     "data": {
      "text/plain": [
       "contributor_employer\n",
       "DHS/ICE                                   218\n",
       "DHS-ICE                                   216\n",
       "ICE/DHS                                    76\n",
       "DHS ICE                                    69\n",
       "ICE-DHS                                    67\n",
       "ICE DHS                                    19\n",
       "U.S. IMMIGRATION & CUSTOMS ENFORCEMENT      5\n",
       "dtype: int64"
      ]
     },
     "execution_count": 20,
     "metadata": {},
     "output_type": "execute_result"
    }
   ],
   "source": [
    "by_city.value_counts(\"contributor_employer\")"
   ]
  },
  {
   "cell_type": "code",
   "execution_count": 21,
   "id": "aed8c865-fb87-4d29-9063-862f0d670451",
   "metadata": {},
   "outputs": [
    {
     "data": {
      "text/plain": [
       "12089.67"
      ]
     },
     "execution_count": 21,
     "metadata": {},
     "output_type": "execute_result"
    }
   ],
   "source": [
    "by_city.contribution_receipt_amount.sum()"
   ]
  },
  {
   "cell_type": "code",
   "execution_count": 22,
   "id": "ad3c20e4-ccfe-4e4d-9d6f-4e1fe05cd703",
   "metadata": {},
   "outputs": [
    {
     "data": {
      "text/plain": [
       "12014.67"
      ]
     },
     "execution_count": 22,
     "metadata": {},
     "output_type": "execute_result"
    }
   ],
   "source": [
    "12089.67-75"
   ]
  },
  {
   "cell_type": "code",
   "execution_count": 23,
   "id": "401f75fc-7236-4235-b103-59ab400a2424",
   "metadata": {},
   "outputs": [
    {
     "data": {
      "text/plain": [
       "0.993796356724377"
      ]
     },
     "execution_count": 23,
     "metadata": {},
     "output_type": "execute_result"
    }
   ],
   "source": [
    "12014.67/12089.67"
   ]
  },
  {
   "cell_type": "code",
   "execution_count": null,
   "id": "c2dd1a8e-a2f8-4c5e-8b8d-e11efc110d0c",
   "metadata": {},
   "outputs": [],
   "source": []
  }
 ],
 "metadata": {
  "kernelspec": {
   "display_name": "Python 3 (ipykernel)",
   "language": "python",
   "name": "python3"
  },
  "language_info": {
   "codemirror_mode": {
    "name": "ipython",
    "version": 3
   },
   "file_extension": ".py",
   "mimetype": "text/x-python",
   "name": "python",
   "nbconvert_exporter": "python",
   "pygments_lexer": "ipython3",
   "version": "3.8.13"
  }
 },
 "nbformat": 4,
 "nbformat_minor": 5
}
